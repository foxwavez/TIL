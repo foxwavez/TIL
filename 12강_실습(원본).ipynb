{
  "nbformat": 4,
  "nbformat_minor": 0,
  "metadata": {
    "colab": {
      "provenance": [],
      "include_colab_link": true
    },
    "kernelspec": {
      "name": "python3",
      "display_name": "Python 3"
    },
    "language_info": {
      "name": "python"
    }
  },
  "cells": [
    {
      "cell_type": "markdown",
      "metadata": {
        "id": "view-in-github",
        "colab_type": "text"
      },
      "source": [
        "<a href=\"https://colab.research.google.com/github/foxwavez/TIL/blob/master/12%EA%B0%95_%EC%8B%A4%EC%8A%B5(%EC%9B%90%EB%B3%B8).ipynb\" target=\"_parent\"><img src=\"https://colab.research.google.com/assets/colab-badge.svg\" alt=\"Open In Colab\"/></a>"
      ]
    },
    {
      "cell_type": "markdown",
      "source": [
        "# 12강 실습"
      ],
      "metadata": {
        "id": "gsIqze9Vyw5b"
      }
    },
    {
      "cell_type": "markdown",
      "source": [
        "**12강 1절**"
      ],
      "metadata": {
        "id": "bQcXLxROy7C_"
      }
    },
    {
      "cell_type": "markdown",
      "source": [
        "'Khan.txt' 파일을 읽고 처리하는 프로그램을 작성하시오."
      ],
      "metadata": {
        "id": "CMTsz70kzLeS"
      }
    },
    {
      "cell_type": "code",
      "source": [
        "khan_fp = open(\"/content/Khan.txt\", \"r\")\n",
        "\n",
        "for motto in khan_fp.readlines():\n",
        "  print(motto.strip())\n",
        "\n",
        "khan_fp.close()"
      ],
      "metadata": {
        "id": "S81g5heLOPTD",
        "outputId": "8bf1a885-36b0-4f97-ffdb-f4fd368bb84c",
        "colab": {
          "base_uri": "https://localhost:8080/"
        }
      },
      "execution_count": 3,
      "outputs": [
        {
          "output_type": "stream",
          "name": "stdout",
          "text": [
            "1. 두려우면 실행하지 말라, 만약 실행한다면 두려워하지 말라.\n",
            "2. 최고라고 잘난 체하지 말라. 아무리 높은 산이라도 그 산에는 짐승이 산다. 그 짐승이 산꼭대기에 올라가면 산보다 더 높아진다.\n",
            "3. 나는 사치를 싫어하고 절제를 실천하며 살아왔다. 좋은 옷을 입고, 빠른 말을 타고, 아름다운 여자들을 거느리면 자신의 전망이나 목표를 잊기 쉽다. 그런 사람은 노예나 다름없으며 반드시 모든 것을 잃게 된다.\n",
            "4. 리더는 말을 많이 해선 안 된다. 말이 아니라 행동을 통해 자신의 생각을 보여줘야 한다. 지도자는 백성이 행복해지기 전에는 결코 행복해질 수 없다.\n",
            "5. 화가 나서 하는 일은 무조건 실패하게 돼 있다.\n",
            "6. 자만심을 누르는 것은 사자를 제압하는 것보다 어려우며, 분노를 이기는 것은 가장 힘센 씨름 선수를 이기는 것보다 어렵다.\n",
            "7. 군대는 전술과 전력만 우월하면 정복할 수 있다. 그러나 나라는 사람들의 마음을 얻어야 정복할 수 있다.\n",
            "8. 말 위에서 세상을 정복하는 것은 쉽다. 어려운 것은 말에서 내려와 지배하는 것이다.\n",
            "9. 나의 부하 예순베이는 아무리 싸워도 지치지 않는다. 그래서 다른 사람도 자기처럼 오래 싸우는 것을 당연하게 여기고 자기만큼 못하면 버럭 화를 낸다. 그런 사람은 절대 지도자가 될 수 없다.\n",
            "10. 성벽의 위력은 그것을 지키는 사람의 용기 이상도, 이하도 아니다.\n"
          ]
        }
      ]
    },
    {
      "cell_type": "code",
      "source": [
        "khan_fp = open(\"/content/Khan.txt\", \"a\") #덧붙이기라 a모드, w모드로 하면 파일 통째로 삭제됨\n",
        "\n",
        "khan_fp.write(\"\\n\")\n",
        "khan_fp.write(format(\"-칭기스 칸 -\", \">50s\"))\n",
        "\n",
        "khan_fp.close()"
      ],
      "metadata": {
        "id": "i-2y53scPfhb"
      },
      "execution_count": 5,
      "outputs": []
    },
    {
      "cell_type": "markdown",
      "source": [
        "**12강 2절**"
      ],
      "metadata": {
        "id": "550wwIWMy_Fn"
      }
    },
    {
      "cell_type": "markdown",
      "source": [
        "\"hamlet_by_Shakespeare.txt\" 파일에 포함된 단어와 각 단어의 출현 횟수를 출력하는 프로그램을 작성하시오"
      ],
      "metadata": {
        "id": "ul20N9_MzMGh"
      }
    },
    {
      "cell_type": "code",
      "source": [
        "h_fp = open(\"/content/Hamlet_by_Shakespeare.txt\", \"r\")\n",
        "\n",
        "word_dict = dict()\n",
        "\n",
        "for line in h_fp.readlines():\n",
        "  for word in line.strip().split():\n",
        "    word = word.strip(\" '.,;-?[]\\'\\\":!.\").lower()\n",
        "\n",
        "    if word_dict.get(word) is not None :\n",
        "      count = word_dict[word]\n",
        "    else:\n",
        "      count = 0\n",
        "\n",
        "    word_dict[word] = count + 1\n",
        "\n",
        "word_r_dict = {v: k for (k, v) in word_dict.items() }\n",
        "\n",
        "word_dict = {k:v for (v, k) in sorted(word_r_dict.items(), reverse=True) }\n",
        "\n",
        "for key in word_dict:\n",
        "  if word_dict[key] >= 100:\n",
        "    print(\"[\"+key+\"]\", str(word_dict[key]) + \"회\")\n",
        "\n",
        "h_fp.close()"
      ],
      "metadata": {
        "id": "rBbwfo2ZUzPW",
        "outputId": "cbc73f92-2fed-43fd-d9b8-81fc31fcb48c",
        "colab": {
          "base_uri": "https://localhost:8080/"
        }
      },
      "execution_count": 18,
      "outputs": [
        {
          "output_type": "stream",
          "name": "stdout",
          "text": [
            "[the] 1086회\n",
            "[and] 965회\n",
            "[to] 758회\n",
            "[of] 678회\n",
            "[i] 563회\n",
            "[you] 553회\n",
            "[a] 532회\n",
            "[my] 515회\n",
            "[hamlet] 468회\n",
            "[in] 439회\n",
            "[it] 415회\n",
            "[that] 385회\n",
            "[is] 358회\n",
            "[not] 312회\n",
            "[his] 306회\n",
            "[this] 299회\n",
            "[with] 277회\n",
            "[but] 274회\n",
            "[he] 253회\n",
            "[for] 249회\n",
            "[your] 242회\n",
            "[me] 230회\n",
            "[be] 223회\n",
            "[as] 218회\n",
            "[what] 203회\n",
            "[king] 198회\n",
            "[him] 195회\n",
            "[so] 190회\n",
            "[have] 181회\n",
            "[will] 170회\n",
            "[do] 160회\n",
            "[horatio] 154회\n",
            "[no] 139회\n",
            "[we] 138회\n",
            "[on] 135회\n",
            "[are] 130회\n",
            "[all] 125회\n",
            "[queen] 122회\n",
            "[by] 121회\n",
            "[our] 120회\n",
            "[polonius] 119회\n",
            "[they] 118회\n",
            "[shall] 117회\n",
            "[if] 113회\n",
            "[or] 112회\n",
            "[laertes] 109회\n",
            "[thou] 108회\n",
            "[come] 107회\n",
            "[good] 105회\n",
            "[now] 100회\n"
          ]
        }
      ]
    },
    {
      "cell_type": "markdown",
      "source": [
        "'hamlet_by_Shakespeare.txt' 파일에 포함된 단어 중 출현한 횟수가 100 이상되는 단어와 출력 횟수를 출력하는 프로그램을 작성하시오\n"
      ],
      "metadata": {
        "id": "5ui2teFoHcsF"
      }
    },
    {
      "cell_type": "code",
      "source": [],
      "metadata": {
        "id": "8hkroqVlX69s"
      },
      "execution_count": null,
      "outputs": []
    }
  ]
}