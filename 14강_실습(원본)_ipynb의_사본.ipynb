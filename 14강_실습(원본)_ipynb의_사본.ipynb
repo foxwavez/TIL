{
  "nbformat": 4,
  "nbformat_minor": 0,
  "metadata": {
    "colab": {
      "provenance": [],
      "include_colab_link": true
    },
    "kernelspec": {
      "name": "python3",
      "display_name": "Python 3"
    },
    "language_info": {
      "name": "python"
    }
  },
  "cells": [
    {
      "cell_type": "markdown",
      "metadata": {
        "id": "view-in-github",
        "colab_type": "text"
      },
      "source": [
        "<a href=\"https://colab.research.google.com/github/foxwavez/TIL/blob/master/14%EA%B0%95_%EC%8B%A4%EC%8A%B5(%EC%9B%90%EB%B3%B8)_ipynb%EC%9D%98_%EC%82%AC%EB%B3%B8.ipynb\" target=\"_parent\"><img src=\"https://colab.research.google.com/assets/colab-badge.svg\" alt=\"Open In Colab\"/></a>"
      ]
    },
    {
      "cell_type": "markdown",
      "source": [
        "**틱택토 게임 설계**\n",
        "\n",
        "1.   2차원 리스트를 사용하여 게임판을 생성하고 각각의 칸을 빈칸으로 초기화\n",
        "> *   빈칸에 대한 지정한 기호(*)를 사용\n",
        "\n",
        "2.   게임판에 빈칸이 남아있는지 확인\n",
        "> *   게임판 전체를 확인하고 True/False 반환\n",
        "\n",
        "3. 둘 중 한 플레이어가 승리했는지 확인\n",
        "> *   8가지의 승리 상황에 따른 가능성을 확인\n",
        "> *   각각의 행, 열과 두 개의 대각선 방향을 확인\n",
        "\n",
        "4. 게임판의 현재 상태를 출력\n",
        "5. 게임 시작\n",
        "> *   무작위로 선공할 플레이어를 선택\n",
        "> *   게임 루프를 기동\n",
        "> *   게임판의 현재 상태를 출력하고 다음 플레이어가 빈칸을 선택\n",
        "> *   플레이어가 선택할 빈칸의 위치(행과 열 번호)를 입력받음\n",
        ">> *   사용자일 경우 사용자 입력을 통해 행과 열 번호를 입력받음\n",
        ">> *   컴퓨터일 경우 무작위로 행과 열 번호를 선택\n",
        "> *   플레이어가 선택한 위치에 기호를 표시하고 게임판을 업데이트\n",
        "> *   현재 플레이어가 승리했는지 확인\n",
        ">> *   승리 상황인 경우, 승리한 플레이어에 대한 메시지를 출력하고 게임 루프를 종료\n",
        "> *   게임판에 빈칸이 남아있는지 확인\n",
        ">> *   게임판이 가득찬 경우, 무승부 메시지를 출력하고 게임 루프를 종료\n",
        "> *   게임이 종료될때까지 게임루프를 반복\n"
      ],
      "metadata": {
        "id": "pKWBQ2Os8a1e"
      }
    },
    {
      "cell_type": "code",
      "execution_count": null,
      "metadata": {
        "id": "AXszvhGpqkw0"
      },
      "outputs": [],
      "source": [
        "import random\n",
        "class Tic_Tac_Toe:\n",
        "\n",
        "    # 게임판 생성\n",
        "    def __init__(self):\n",
        "      self.board = [] # []를 통해 리스트 생성\n",
        "\n",
        "    # 게임판 초기화\n",
        "    def create_board(self):\n",
        "      for i in range(0, 3):  #rang(0, 3) 범위는 0, 1, 2의미\n",
        "        row = []\n",
        "        for j in range(0, 3):\n",
        "          row.append('*')\n",
        "        self.board.append(row)\n",
        "\n",
        "    # 첫 플레이어 선택\n",
        "    def select_first_player(self):\n",
        "      random.randit(0, 1). # randint(0, 3)범위는 0, 1, 2, 3\n",
        "      if random.randit(0, 1) == 0:\n",
        "        return 'X'#컴퓨터\n",
        "      else:\n",
        "        return 'O'#사용자\n",
        "\n",
        "    # 기호 표시\n",
        "    def mark_spot(self, row, col, player):\n",
        "      self.board[row][col] #게임판 상의 행, 열 값에 Player의 말 표시, []를 통해 리스트 생성\n",
        "\n",
        "\n",
        "    # 승리 상태 확인\n",
        "    def is_win(self, player):\n",
        "\n",
        "      n = len(self.board) #board가 가리키는 리스트의 원소의 개수 추출 len이\n",
        "\n",
        "      #행 확인\n",
        "      for i in range(n):\n",
        "        win = True;\n",
        "        for j in range(n):\n",
        "          self.board[i][j] != player\n",
        "          win = False\n",
        "          break\n",
        "        if win == True :\n",
        "          return win\n",
        "\n",
        "      #열 확인\n",
        "      #대각선 확인\n",
        "\n",
        "    #잔여 빈칸 여부 확인\n",
        "    def is_board_full(self):\n",
        "\n",
        "    # 플레이어 변경\n",
        "    def next_player(self, player):\n",
        "\n",
        "    # 현재 게임판 상태 출력\n",
        "    def show_board(self):\n",
        "\n",
        "    # 게임 시작\n",
        "    def start(self):\n",
        "\n",
        "\n",
        "\n",
        "# 게임 생성\n",
        "\n",
        "#게임 시작\n"
      ]
    },
    {
      "cell_type": "markdown",
      "source": [],
      "metadata": {
        "id": "wY-Tr850FXFT"
      }
    },
    {
      "cell_type": "code",
      "source": [],
      "metadata": {
        "id": "kE0XbojSFWzY"
      },
      "execution_count": null,
      "outputs": []
    },
    {
      "cell_type": "markdown",
      "source": [],
      "metadata": {
        "id": "MK-R3atFFY33"
      }
    }
  ]
}